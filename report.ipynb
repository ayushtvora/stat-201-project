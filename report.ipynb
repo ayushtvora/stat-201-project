{
 "cells": [
  {
   "cell_type": "markdown",
   "id": "bfa5efa0-72e5-49f1-853f-aea2a942ffd6",
   "metadata": {},
   "source": [
    "# Greenest City Projects - A Statistical Inference"
   ]
  },
  {
   "cell_type": "markdown",
   "id": "a0ad66a8-69a7-4912-9096-caf939856696",
   "metadata": {},
   "source": [
    "By: Ankur Bhardwaj, Uliana Ryazanova, and Ayush Vora - Group 43"
   ]
  },
  {
   "cell_type": "markdown",
   "id": "527d7fcf-e539-4f0d-8d46-8fc1a320a1b3",
   "metadata": {},
   "source": [
    "## Introduction"
   ]
  },
  {
   "cell_type": "markdown",
   "id": "e455d6ee-8d22-4b99-8092-4828f5afc5d7",
   "metadata": {},
   "source": [
    "(Insert Introduction Here)"
   ]
  },
  {
   "cell_type": "markdown",
   "id": "7ea47975-1f65-4485-a5c1-31b1081aed49",
   "metadata": {},
   "source": [
    "## Preliminary Results"
   ]
  },
  {
   "cell_type": "code",
   "execution_count": 27,
   "id": "77d4adaa-9088-4d28-a1e6-c06e8ecde6c4",
   "metadata": {},
   "outputs": [],
   "source": [
    "## Import Required Libraries and Data\n",
    "library(tidyverse)\n",
    "library(broom)\n",
    "library(repr)\n",
    "library(digest)\n",
    "library(infer)\n",
    "library(gridExtra)\n",
    "data <- read.csv(\"https://raw.githubusercontent.com/ayushtvora/stat-201-project/main/data/greenest-city-projects.csv\", sep = \";\")\n",
    "## Source for Data: https://opendata.vancouver.ca/explore/dataset/greenest-city-projects/information/"
   ]
  },
  {
   "cell_type": "code",
   "execution_count": 32,
   "id": "f9eebf93-2b68-443b-974d-eddf4e3f263e",
   "metadata": {},
   "outputs": [
    {
     "data": {
      "text/html": [
       "<table class=\"dataframe\">\n",
       "<caption>A data.frame: 6 × 1</caption>\n",
       "<thead>\n",
       "\t<tr><th></th><th scope=col>project_funder</th></tr>\n",
       "\t<tr><th></th><th scope=col>&lt;chr&gt;</th></tr>\n",
       "</thead>\n",
       "<tbody>\n",
       "\t<tr><th scope=row>1</th><td>City projects   </td></tr>\n",
       "\t<tr><th scope=row>2</th><td>City projects   </td></tr>\n",
       "\t<tr><th scope=row>3</th><td>Private projects</td></tr>\n",
       "\t<tr><th scope=row>4</th><td>Private projects</td></tr>\n",
       "\t<tr><th scope=row>5</th><td>Private projects</td></tr>\n",
       "\t<tr><th scope=row>6</th><td>Private projects</td></tr>\n",
       "</tbody>\n",
       "</table>\n"
      ],
      "text/latex": [
       "A data.frame: 6 × 1\n",
       "\\begin{tabular}{r|l}\n",
       "  & project\\_funder\\\\\n",
       "  & <chr>\\\\\n",
       "\\hline\n",
       "\t1 & City projects   \\\\\n",
       "\t2 & City projects   \\\\\n",
       "\t3 & Private projects\\\\\n",
       "\t4 & Private projects\\\\\n",
       "\t5 & Private projects\\\\\n",
       "\t6 & Private projects\\\\\n",
       "\\end{tabular}\n"
      ],
      "text/markdown": [
       "\n",
       "A data.frame: 6 × 1\n",
       "\n",
       "| <!--/--> | project_funder &lt;chr&gt; |\n",
       "|---|---|\n",
       "| 1 | City projects    |\n",
       "| 2 | City projects    |\n",
       "| 3 | Private projects |\n",
       "| 4 | Private projects |\n",
       "| 5 | Private projects |\n",
       "| 6 | Private projects |\n",
       "\n"
      ],
      "text/plain": [
       "  project_funder  \n",
       "1 City projects   \n",
       "2 City projects   \n",
       "3 Private projects\n",
       "4 Private projects\n",
       "5 Private projects\n",
       "6 Private projects"
      ]
     },
     "metadata": {},
     "output_type": "display_data"
    }
   ],
   "source": [
    "## Tidy and Wrangle Data\n",
    "tidy_data <- data |> \n",
    "    select(project_funder = CATEGORY1) # Selecting only Relavent Data\n",
    "    # select(name = NAME, project_funder = CATEGORY1, project_type =  CATEGORY2) #  Selecting columns with extra data\n",
    "head(tidy_data)"
   ]
  },
  {
   "cell_type": "code",
   "execution_count": 48,
   "id": "e05e5c6f-152b-49e8-96ab-f2e66b0cbaf7",
   "metadata": {},
   "outputs": [
    {
     "data": {
      "text/html": [
       "'The proportion of Greenest City Fund Projects to all projects is:'"
      ],
      "text/latex": [
       "'The proportion of Greenest City Fund Projects to all projects is:'"
      ],
      "text/markdown": [
       "'The proportion of Greenest City Fund Projects to all projects is:'"
      ],
      "text/plain": [
       "[1] \"The proportion of Greenest City Fund Projects to all projects is:\""
      ]
     },
     "metadata": {},
     "output_type": "display_data"
    },
    {
     "data": {
      "text/html": [
       "0.447530864197531"
      ],
      "text/latex": [
       "0.447530864197531"
      ],
      "text/markdown": [
       "0.447530864197531"
      ],
      "text/plain": [
       "[1] 0.4475309"
      ]
     },
     "metadata": {},
     "output_type": "display_data"
    }
   ],
   "source": [
    "## Calculating the Proportion\n",
    "phat <- tidy_data |> \n",
    "    mutate(project_funder = (project_funder == \"Greenest City Fund Project\")) |> # Sets values that are success to true, false otherwise.\n",
    "    specify(response = project_funder, success = \"TRUE\") |> # Using infer package to find the proportion\n",
    "    calculate(stat = \"prop\") |>\n",
    "    pull()\n",
    "\n",
    "\"The proportion of Greenest City Fund Projects to all projects is:\"\n",
    "phat"
   ]
  },
  {
   "cell_type": "markdown",
   "id": "4a339110-3078-47ea-9210-70672c07281e",
   "metadata": {},
   "source": [
    "## Methods"
   ]
  },
  {
   "cell_type": "markdown",
   "id": "1fb013d1-601f-4262-a3b3-bbffb07a0dc8",
   "metadata": {},
   "source": [
    "### Plan"
   ]
  },
  {
   "cell_type": "markdown",
   "id": "47982836-0576-4110-8fa8-937d13175793",
   "metadata": {},
   "source": [
    "(Insert Plan Here)"
   ]
  },
  {
   "cell_type": "markdown",
   "id": "93ae2497-7de1-4c55-af17-c05b5f8b00fc",
   "metadata": {},
   "source": [
    "## Works Cited"
   ]
  },
  {
   "cell_type": "markdown",
   "id": "7c77ef00-5b4b-4b87-aa09-28aa3eb06d75",
   "metadata": {},
   "source": [
    "Add your works cited here. We need at least 2"
   ]
  }
 ],
 "metadata": {
  "kernelspec": {
   "display_name": "R",
   "language": "R",
   "name": "ir"
  },
  "language_info": {
   "codemirror_mode": "r",
   "file_extension": ".r",
   "mimetype": "text/x-r-source",
   "name": "R",
   "pygments_lexer": "r",
   "version": "4.1.3"
  }
 },
 "nbformat": 4,
 "nbformat_minor": 5
}
