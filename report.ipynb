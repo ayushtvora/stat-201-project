{
 "cells": [
  {
   "cell_type": "markdown",
   "id": "bfa5efa0-72e5-49f1-853f-aea2a942ffd6",
   "metadata": {},
   "source": [
    "# Greenest City Projects - A Statistical Inference"
   ]
  },
  {
   "cell_type": "markdown",
   "id": "a0ad66a8-69a7-4912-9096-caf939856696",
   "metadata": {},
   "source": [
    "By: Ankur Bhardwaj, Uliana Ryazanova, and Ayush Vora - Group 43"
   ]
  },
  {
   "cell_type": "markdown",
   "id": "527d7fcf-e539-4f0d-8d46-8fc1a320a1b3",
   "metadata": {},
   "source": [
    "## Introduction"
   ]
  },
  {
   "cell_type": "markdown",
   "id": "e455d6ee-8d22-4b99-8092-4828f5afc5d7",
   "metadata": {},
   "source": [
    "(Insert Introduction Here)"
   ]
  },
  {
   "cell_type": "markdown",
   "id": "7ea47975-1f65-4485-a5c1-31b1081aed49",
   "metadata": {},
   "source": [
    "## Preliminary Results"
   ]
  },
  {
   "cell_type": "code",
   "execution_count": 2,
   "id": "6dfe3d10-45c1-43b0-8788-6868e0113f71",
   "metadata": {},
   "outputs": [],
   "source": [
    "## Import Required Libraries and Data\n",
    "library(tidyverse)\n",
    "library(broom)\n",
    "library(repr)\n",
    "library(digest)\n",
    "library(infer)\n",
    "library(gridExtra)\n"
   ]
  },
  {
   "cell_type": "markdown",
   "id": "4a339110-3078-47ea-9210-70672c07281e",
   "metadata": {},
   "source": [
    "## Methods"
   ]
  },
  {
   "cell_type": "markdown",
   "id": "1fb013d1-601f-4262-a3b3-bbffb07a0dc8",
   "metadata": {},
   "source": [
    "### Plan"
   ]
  },
  {
   "cell_type": "markdown",
   "id": "47982836-0576-4110-8fa8-937d13175793",
   "metadata": {},
   "source": [
    "(Insert Plan Here)"
   ]
  },
  {
   "cell_type": "markdown",
   "id": "93ae2497-7de1-4c55-af17-c05b5f8b00fc",
   "metadata": {},
   "source": [
    "## Works Cited"
   ]
  },
  {
   "cell_type": "markdown",
   "id": "7c77ef00-5b4b-4b87-aa09-28aa3eb06d75",
   "metadata": {},
   "source": [
    "Add your works cited here. We need at least 2"
   ]
  }
 ],
 "metadata": {
  "kernelspec": {
   "display_name": "R",
   "language": "R",
   "name": "ir"
  },
  "language_info": {
   "codemirror_mode": "r",
   "file_extension": ".r",
   "mimetype": "text/x-r-source",
   "name": "R",
   "pygments_lexer": "r",
   "version": "4.1.3"
  }
 },
 "nbformat": 4,
 "nbformat_minor": 5
}
